{
 "cells": [
  {
   "cell_type": "code",
   "execution_count": 2,
   "id": "9cd2ef33",
   "metadata": {},
   "outputs": [],
   "source": [
    "#Importing all the modules and libraries that are needed\n",
    "import numpy as np\n",
    "from skimage.morphology import skeletonize\n",
    "from skimage.morphology import medial_axis\n",
    "import matplotlib.pyplot as plt\n",
    "from skimage import io\n",
    "import nibabel as nib\n",
    "import torch\n",
    "import os\n",
    "import tempfile\n",
    "import shutil\n",
    "import glob\n",
    "from os import listdir\n",
    "from os.path import isfile, join\n"
   ]
  },
  {
   "cell_type": "code",
   "execution_count": 18,
   "id": "f2dd5b99",
   "metadata": {},
   "outputs": [],
   "source": [
    "#Getting the pathways where the data is located and where the data should be sotred\n",
    "path_to_seg = r'C:\\Users\\raque\\OneDrive\\Escritorio\\UU\\team challenge\\segmentations'\n",
    "path_to_save= r'C:\\Users\\raque\\OneDrive\\Escritorio\\UU\\team challenge\\skel'"
   ]
  },
  {
   "cell_type": "code",
   "execution_count": 10,
   "id": "3d284bbc",
   "metadata": {},
   "outputs": [
    {
     "name": "stdout",
     "output_type": "stream",
     "text": [
      "['control1a_seg.nii', 'control2a_seg.nii', 'control3a_seg.nii', 'control4a_seg.nii', 'control5a_seg.nii', 'control6a_seg.nii', 'control7a_seg.nii', 'control8a_seg.nii', 'preop1_seg.nii', 'preop2_seg.nii', 'preop3_seg.nii', 'preop4_seg.nii', 'preop5_seg.nii', 'preop7_seg.nii', 'preop9_seg.nii']\n",
      "['control1a_seg.nii', 'control2a_seg.nii', 'control3a_seg.nii', 'control4a_seg.nii', 'control5a_seg.nii', 'control6a_seg.nii', 'control7a_seg.nii', 'control8a_seg.nii']\n",
      "['preop1_seg.nii', 'preop2_seg.nii', 'preop3_seg.nii', 'preop4_seg.nii', 'preop5_seg.nii', 'preop7_seg.nii', 'preop9_seg.nii']\n",
      "[]\n"
     ]
    }
   ],
   "source": [
    "#Loading all the data into the script\n",
    "seg_path = []\n",
    "seg_names = [f for f in listdir(path_to_seg) if isfile(join(path_to_seg, f))]\n",
    "for i in seg_names:\n",
    "    names_path = sorted(glob.glob(os.path.join(path_to_seg, i)))\n",
    "    seg_path.append(names_path)\n",
    "    \n",
    "\n",
    "\n",
    "print(seg_names)\n",
    "\n",
    "#Sorting the files into control, preop and postop\n",
    "seg_names_control = []\n",
    "seg_names_preop = []\n",
    "seg_names_postop = []\n",
    "\n",
    "seg_path_control = []\n",
    "seg_path_preop = []\n",
    "seg_path_postop = []\n",
    "\n",
    "#Sorting the files into the correct datasets\n",
    "for filename in os.listdir(path_to_seg):\n",
    "    if filename.startswith('control'):\n",
    "        seg_names_control.append(filename)\n",
    "    if filename.startswith('preop'):\n",
    "        seg_names_preop.append(filename)\n",
    "    if filename.startswith('postop'):\n",
    "        seg_names_postop.append(filename)\n",
    "\n",
    "print(seg_names_control)\n",
    "print(seg_names_preop)\n",
    "print(seg_names_postop)\n",
    "\n",
    "for i in seg_names_control:\n",
    "    seg_paths = sorted(glob.glob(os.path.join(path_to_seg, i)))\n",
    "    seg_path_control.append(seg_paths)\n",
    "    \n",
    "for i in seg_names_preop:\n",
    "    seg_paths = sorted(glob.glob(os.path.join(path_to_seg, i)))\n",
    "    seg_path_preop.append(seg_paths)\n",
    "    \n",
    "for i in seg_names_postop:\n",
    "    seg_paths = sorted(glob.glob(os.path.join(path_to_seg, i)))\n",
    "    seg_path_postop.append(seg_paths)"
   ]
  },
  {
   "cell_type": "code",
   "execution_count": 19,
   "id": "404856f2",
   "metadata": {},
   "outputs": [
    {
     "name": "stdout",
     "output_type": "stream",
     "text": [
      "['C:\\\\Users\\\\raque\\\\OneDrive\\\\Escritorio\\\\UU\\\\team challenge\\\\skel\\\\control1a_seg_skel.nii', 'C:\\\\Users\\\\raque\\\\OneDrive\\\\Escritorio\\\\UU\\\\team challenge\\\\skel\\\\control2a_seg_skel.nii', 'C:\\\\Users\\\\raque\\\\OneDrive\\\\Escritorio\\\\UU\\\\team challenge\\\\skel\\\\control3a_seg_skel.nii', 'C:\\\\Users\\\\raque\\\\OneDrive\\\\Escritorio\\\\UU\\\\team challenge\\\\skel\\\\control4a_seg_skel.nii', 'C:\\\\Users\\\\raque\\\\OneDrive\\\\Escritorio\\\\UU\\\\team challenge\\\\skel\\\\control5a_seg_skel.nii', 'C:\\\\Users\\\\raque\\\\OneDrive\\\\Escritorio\\\\UU\\\\team challenge\\\\skel\\\\control6a_seg_skel.nii', 'C:\\\\Users\\\\raque\\\\OneDrive\\\\Escritorio\\\\UU\\\\team challenge\\\\skel\\\\control7a_seg_skel.nii', 'C:\\\\Users\\\\raque\\\\OneDrive\\\\Escritorio\\\\UU\\\\team challenge\\\\skel\\\\control8a_seg_skel.nii']\n",
      "['C:\\\\Users\\\\raque\\\\OneDrive\\\\Escritorio\\\\UU\\\\team challenge\\\\skel\\\\preop1_seg_skel.nii', 'C:\\\\Users\\\\raque\\\\OneDrive\\\\Escritorio\\\\UU\\\\team challenge\\\\skel\\\\preop2_seg_skel.nii', 'C:\\\\Users\\\\raque\\\\OneDrive\\\\Escritorio\\\\UU\\\\team challenge\\\\skel\\\\preop3_seg_skel.nii', 'C:\\\\Users\\\\raque\\\\OneDrive\\\\Escritorio\\\\UU\\\\team challenge\\\\skel\\\\preop4_seg_skel.nii', 'C:\\\\Users\\\\raque\\\\OneDrive\\\\Escritorio\\\\UU\\\\team challenge\\\\skel\\\\preop5_seg_skel.nii', 'C:\\\\Users\\\\raque\\\\OneDrive\\\\Escritorio\\\\UU\\\\team challenge\\\\skel\\\\preop7_seg_skel.nii', 'C:\\\\Users\\\\raque\\\\OneDrive\\\\Escritorio\\\\UU\\\\team challenge\\\\skel\\\\preop9_seg_skel.nii']\n",
      "[]\n"
     ]
    }
   ],
   "source": [
    "#Creation of final names for the skeletonized images\n",
    "skel_control = []\n",
    "skel_preop = []\n",
    "skel_postop = []\n",
    "\n",
    "for i in (seg_names_control):\n",
    "    name, extension = os.path.splitext(i)\n",
    "    skel_control.append(join(path_to_save, name +\"_skel\"+ \".nii\"))\n",
    "\n",
    "for i in (seg_names_preop):\n",
    "    name, extension = os.path.splitext(i)\n",
    "    skel_preop.append(join(path_to_save, name +\"_skel\"+ \".nii\"))\n",
    "    \n",
    "for i in (seg_names_postop):\n",
    "    name, extension = os.path.splitext(i)\n",
    "    skel_postop.append(join(path_to_save, name +\"_skel\"+ \".nii\"))\n",
    "\n",
    "print(skel_control)\n",
    "print(skel_preop)\n",
    "print(skel_postop)\n"
   ]
  },
  {
   "cell_type": "markdown",
   "id": "4d318d81",
   "metadata": {},
   "source": [
    "## Skeletonization"
   ]
  },
  {
   "cell_type": "code",
   "execution_count": 21,
   "id": "279837da",
   "metadata": {},
   "outputs": [],
   "source": [
    "#Skeltonizing all the control images using the skeletonize function\n",
    "for num, name in enumerate (seg_path_control):   \n",
    "    nifti_image = nib.load(name[0])\n",
    "    struct_arr_nib = np.array(nifti_image.get_fdata())\n",
    "    \n",
    "    binary_image = struct_arr_nib > 0\n",
    "    \n",
    "    skeleton = skeletonize(binary_image)\n",
    "    \n",
    "    converted_array = np.array(skeleton, dtype=np.float64)\n",
    "    \n",
    "    skeleton_nifti = nib.Nifti1Image(skeleton.astype(int), nifti_image.affine, nifti_image.header)\n",
    "    \n",
    "    nib.save(skeleton_nifti, skel_control[num])"
   ]
  },
  {
   "cell_type": "code",
   "execution_count": 22,
   "id": "77b97e43",
   "metadata": {},
   "outputs": [],
   "source": [
    "#Skeltonizing all the preop images using the skeletonize function\n",
    "for num, name in enumerate (seg_path_preop):   \n",
    "    nifti_image = nib.load(name[0])\n",
    "    struct_arr_nib = np.array(nifti_image.get_fdata())\n",
    "    \n",
    "    binary_image = struct_arr_nib > 0\n",
    "    \n",
    "    skeleton = skeletonize(binary_image)\n",
    "    \n",
    "    converted_array = np.array(skeleton, dtype=np.float64)\n",
    "    \n",
    "    skeleton_nifti = nib.Nifti1Image(skeleton.astype(int), nifti_image.affine, nifti_image.header)\n",
    "    \n",
    "    nib.save(skeleton_nifti, skel_preop[num])"
   ]
  },
  {
   "cell_type": "code",
   "execution_count": null,
   "id": "494197ff",
   "metadata": {},
   "outputs": [],
   "source": [
    "#Skeltonizing all the postop images using the skeletonize function\n",
    "for num, name in enumerate (seg_path_postop):   \n",
    "    nifti_image = nib.load(name[0])\n",
    "    struct_arr_nib = np.array(nifti_image.get_fdata())\n",
    "    \n",
    "    binary_image = struct_arr_nib > 0\n",
    "    \n",
    "    skeleton = skeletonize(binary_image)\n",
    "    \n",
    "    converted_array = np.array(skeleton, dtype=np.float64)\n",
    "    \n",
    "    skeleton_nifti = nib.Nifti1Image(skeleton.astype(int), nifti_image.affine, nifti_image.header)\n",
    "    \n",
    "    nib.save(skeleton_nifti, skel_postop[num])"
   ]
  }
 ],
 "metadata": {
  "kernelspec": {
   "display_name": "Python 3 (ipykernel)",
   "language": "python",
   "name": "python3"
  },
  "language_info": {
   "codemirror_mode": {
    "name": "ipython",
    "version": 3
   },
   "file_extension": ".py",
   "mimetype": "text/x-python",
   "name": "python",
   "nbconvert_exporter": "python",
   "pygments_lexer": "ipython3",
   "version": "3.9.12"
  }
 },
 "nbformat": 4,
 "nbformat_minor": 5
}
